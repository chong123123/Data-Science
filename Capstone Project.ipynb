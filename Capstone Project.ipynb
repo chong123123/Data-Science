{
 "cells": [
  {
   "cell_type": "markdown",
   "metadata": {
    "collapsed": true
   },
   "source": [
    "# Introduction / Business Problem"
   ]
  },
  {
   "cell_type": "markdown",
   "metadata": {},
   "source": [
    "Mr. Smith was originally from the United States and he is starting a new job in Toronto. He will be moving to Toronto together with his wife and their two children. He is now looking for a place to stay in Toronto but he does not know where to start. He prefers to choose to stay in a neighborhood that are close to the following venues:"
   ]
  },
  {
   "cell_type": "markdown",
   "metadata": {},
   "source": [
    "1. Ease of assess to a public transport\n",
    "1. Close to schools for his children\n",
    "1. Close to supermarkets for regular grocery shopping\n",
    "1. A park or a garden"
   ]
  },
  {
   "cell_type": "markdown",
   "metadata": {},
   "source": [
    "He does not prefer to the following close to his neighborhood:"
   ]
  },
  {
   "cell_type": "markdown",
   "metadata": {},
   "source": [
    "1. A bar or a pub (He rarely drinks). \n",
    "1. Restaurants or coffee shops\n",
    "1. Hotel \n",
    "1. Event halls \n"
   ]
  },
  {
   "cell_type": "markdown",
   "metadata": {},
   "source": [
    "By leveraging location data from Foursquare, a K-means clustering approach will be used to determine the neighborhood that fits best to his preferences. "
   ]
  }
 ],
 "metadata": {
  "kernelspec": {
   "display_name": "Python 3.6",
   "language": "python",
   "name": "python3"
  },
  "language_info": {
   "codemirror_mode": {
    "name": "ipython",
    "version": 3
   },
   "file_extension": ".py",
   "mimetype": "text/x-python",
   "name": "python",
   "nbconvert_exporter": "python",
   "pygments_lexer": "ipython3",
   "version": "3.6.9"
  }
 },
 "nbformat": 4,
 "nbformat_minor": 1
}
