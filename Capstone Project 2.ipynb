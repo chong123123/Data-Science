{
 "cells": [
  {
   "cell_type": "markdown",
   "metadata": {
    "collapsed": true
   },
   "source": [
    "# Data"
   ]
  },
  {
   "cell_type": "markdown",
   "metadata": {},
   "source": [
    "The analysis will require the following:"
   ]
  },
  {
   "cell_type": "markdown",
   "metadata": {},
   "source": [
    "### From Wikipedia ('https://en.wikipedia.org/wiki/List_of_postal_codes_of_Canada:_M):\n",
    "1. Postal Codes, Boroughs and neighborhoods in Canada\n",
    "\n",
    "For example: Postal Code: M3A; Borough: North York; Neighborhood: Parkwoods\n",
    "Do note that postal codes start with M are located within the city of Toronto"
   ]
  },
  {
   "attachments": {},
   "cell_type": "markdown",
   "metadata": {},
   "source": [
    "### From http://cocl.us/Geospatial_data:\n",
    "1. The latitude and longitude of each postal code found from Wikipedia will be matched with the corresponding latitude and longitudes. \n",
    "\n",
    "For example: Postal Code M3A can be linked to Latitude: 43.7532586, Longitude: -79.3296565"
   ]
  },
  {
   "cell_type": "markdown",
   "metadata": {},
   "source": [
    "### From Foursquare\n",
    "1. This will be used to find the venues available within a certain radius (i.e. 3 miles) from the centre of the neighborhood. \n",
    "1. The venues category will be used to determine what type of venue are located within 3 miles radius of the neighborhood. For example, there is a bar, supermarket and a school in the vicinity. \n",
    "1. The frequency of each venue category will be calculated.\n",
    "1. K-means clustering is used to group neighborhoods with similar attributes or venue category together. \n",
    "1. Show cluster results on folieum map. "
   ]
  },
  {
   "cell_type": "markdown",
   "metadata": {},
   "source": [
    "Based on the results plotted on the map, Mr. Smith will be able to know which neighborhood fits his preference best. "
   ]
  },
  {
   "cell_type": "code",
   "execution_count": null,
   "metadata": {},
   "outputs": [],
   "source": []
  }
 ],
 "metadata": {
  "kernelspec": {
   "display_name": "Python 3.6",
   "language": "python",
   "name": "python3"
  },
  "language_info": {
   "codemirror_mode": {
    "name": "ipython",
    "version": 3
   },
   "file_extension": ".py",
   "mimetype": "text/x-python",
   "name": "python",
   "nbconvert_exporter": "python",
   "pygments_lexer": "ipython3",
   "version": "3.6.9"
  }
 },
 "nbformat": 4,
 "nbformat_minor": 1
}
